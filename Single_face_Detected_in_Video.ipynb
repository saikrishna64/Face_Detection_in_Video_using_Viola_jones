{
 "cells": [
  {
   "cell_type": "code",
   "execution_count": 18,
   "id": "c2edaeab",
   "metadata": {},
   "outputs": [],
   "source": [
    "import numpy as np\n",
    "import cv2\n",
    "\n",
    "video = cv2.VideoCapture('./1.mp4')\n",
    "\n",
    "# Applying viola jones math which is in xml file to the image:\n",
    "\n",
    "model = cv2.CascadeClassifier('haarcascade_frontalface_default.xml')\n",
    "\n",
    "\n",
    "while True:\n",
    "    res , frames = video.read()\n",
    "    if res == True:\n",
    "        cordinates , no_of_faces = model.detectMultiScale2(frames)\n",
    "        pt1 = (cordinates[0][0] , cordinates[0][1])\n",
    "        pt2 = (cordinates[0][2] + cordinates[0][0] , cordinates[0][3] + cordinates[0][1])\n",
    "        cv2.rectangle(frames , pt1 , pt2 , (0,0,255) , 1)\n",
    "        cv2.imshow('vi' , frames)\n",
    "        font = cv2.FONT_HERSHEY_COMPLEX\n",
    "        text = 'No.of Images Detected= '+str(len(no_of_faces))\n",
    "        cv2.putText(frames,str(text) , (50, 50), font, 1, (0,0,255), 1)\n",
    "        cv2.imshow('vi',frames)\n",
    "        if cv2.waitKey(30) & 0xFF == ord('q'):\n",
    "            break\n",
    "    else:\n",
    "        break\n",
    "\n",
    "video.release()\n",
    "cv2.destroyAllWindows()"
   ]
  },
  {
   "cell_type": "code",
   "execution_count": null,
   "id": "1c85d941",
   "metadata": {},
   "outputs": [],
   "source": []
  },
  {
   "cell_type": "code",
   "execution_count": null,
   "id": "4cb5a0c6",
   "metadata": {},
   "outputs": [],
   "source": []
  }
 ],
 "metadata": {
  "kernelspec": {
   "display_name": "Python 3 (ipykernel)",
   "language": "python",
   "name": "python3"
  },
  "language_info": {
   "codemirror_mode": {
    "name": "ipython",
    "version": 3
   },
   "file_extension": ".py",
   "mimetype": "text/x-python",
   "name": "python",
   "nbconvert_exporter": "python",
   "pygments_lexer": "ipython3",
   "version": "3.10.9"
  }
 },
 "nbformat": 4,
 "nbformat_minor": 5
}
